{
  "nbformat": 4,
  "nbformat_minor": 0,
  "metadata": {
    "colab": {
      "name": "Summer Olympics Analysis.ipynb",
      "provenance": [],
      "collapsed_sections": []
    },
    "kernelspec": {
      "name": "python3",
      "display_name": "Python 3"
    },
    "language_info": {
      "name": "python"
    }
  },
  "cells": [
    {
      "cell_type": "markdown",
      "metadata": {
        "id": "8XZgnyitFw6G"
      },
      "source": [
        "# **Summer Olympics Data Analysis Assignment**"
      ]
    },
    {
      "cell_type": "markdown",
      "metadata": {
        "id": "_dvfMmDKGf-V"
      },
      "source": [
        "**Import Libraries**"
      ]
    },
    {
      "cell_type": "code",
      "metadata": {
        "id": "S4f8gkDbGH6x"
      },
      "source": [
        "import pandas as pd\n",
        "import numpy as np\n",
        "import matplotlib.pyplot as plt"
      ],
      "execution_count": 1,
      "outputs": []
    },
    {
      "cell_type": "markdown",
      "metadata": {
        "id": "KUA3WCPLFyse"
      },
      "source": [
        "**Importing Summer Olympics Dataset**"
      ]
    },
    {
      "cell_type": "code",
      "metadata": {
        "id": "i1pMi4crGR57"
      },
      "source": [
        "df = pd.read_csv(\"Summer_olympics.csv\")\n"
      ],
      "execution_count": 2,
      "outputs": []
    },
    {
      "cell_type": "code",
      "metadata": {
        "colab": {
          "base_uri": "https://localhost:8080/",
          "height": 417
        },
        "id": "HLpQ5B5iPuys",
        "outputId": "01af51b5-3c42-46e5-c479-6d6355a5e651"
      },
      "source": [
        "df"
      ],
      "execution_count": 3,
      "outputs": [
        {
          "output_type": "execute_result",
          "data": {
            "text/html": [
              "<div>\n",
              "<style scoped>\n",
              "    .dataframe tbody tr th:only-of-type {\n",
              "        vertical-align: middle;\n",
              "    }\n",
              "\n",
              "    .dataframe tbody tr th {\n",
              "        vertical-align: top;\n",
              "    }\n",
              "\n",
              "    .dataframe thead th {\n",
              "        text-align: right;\n",
              "    }\n",
              "</style>\n",
              "<table border=\"1\" class=\"dataframe\">\n",
              "  <thead>\n",
              "    <tr style=\"text-align: right;\">\n",
              "      <th></th>\n",
              "      <th>Year</th>\n",
              "      <th>City</th>\n",
              "      <th>Sport</th>\n",
              "      <th>Discipline</th>\n",
              "      <th>Athlete</th>\n",
              "      <th>Country</th>\n",
              "      <th>Gender</th>\n",
              "      <th>Event</th>\n",
              "      <th>Medal</th>\n",
              "    </tr>\n",
              "  </thead>\n",
              "  <tbody>\n",
              "    <tr>\n",
              "      <th>0</th>\n",
              "      <td>1896</td>\n",
              "      <td>Athens</td>\n",
              "      <td>Aquatics</td>\n",
              "      <td>Swimming</td>\n",
              "      <td>HAJOS, Alfred</td>\n",
              "      <td>HUN</td>\n",
              "      <td>Men</td>\n",
              "      <td>100M Freestyle</td>\n",
              "      <td>Gold</td>\n",
              "    </tr>\n",
              "    <tr>\n",
              "      <th>1</th>\n",
              "      <td>1896</td>\n",
              "      <td>Athens</td>\n",
              "      <td>Aquatics</td>\n",
              "      <td>Swimming</td>\n",
              "      <td>HERSCHMANN, Otto</td>\n",
              "      <td>AUT</td>\n",
              "      <td>Men</td>\n",
              "      <td>100M Freestyle</td>\n",
              "      <td>Silver</td>\n",
              "    </tr>\n",
              "    <tr>\n",
              "      <th>2</th>\n",
              "      <td>1896</td>\n",
              "      <td>Athens</td>\n",
              "      <td>Aquatics</td>\n",
              "      <td>Swimming</td>\n",
              "      <td>DRIVAS, Dimitrios</td>\n",
              "      <td>GRE</td>\n",
              "      <td>Men</td>\n",
              "      <td>100M Freestyle For Sailors</td>\n",
              "      <td>Bronze</td>\n",
              "    </tr>\n",
              "    <tr>\n",
              "      <th>3</th>\n",
              "      <td>1896</td>\n",
              "      <td>Athens</td>\n",
              "      <td>Aquatics</td>\n",
              "      <td>Swimming</td>\n",
              "      <td>MALOKINIS, Ioannis</td>\n",
              "      <td>GRE</td>\n",
              "      <td>Men</td>\n",
              "      <td>100M Freestyle For Sailors</td>\n",
              "      <td>Gold</td>\n",
              "    </tr>\n",
              "    <tr>\n",
              "      <th>4</th>\n",
              "      <td>1896</td>\n",
              "      <td>Athens</td>\n",
              "      <td>Aquatics</td>\n",
              "      <td>Swimming</td>\n",
              "      <td>CHASAPIS, Spiridon</td>\n",
              "      <td>GRE</td>\n",
              "      <td>Men</td>\n",
              "      <td>100M Freestyle For Sailors</td>\n",
              "      <td>Silver</td>\n",
              "    </tr>\n",
              "    <tr>\n",
              "      <th>...</th>\n",
              "      <td>...</td>\n",
              "      <td>...</td>\n",
              "      <td>...</td>\n",
              "      <td>...</td>\n",
              "      <td>...</td>\n",
              "      <td>...</td>\n",
              "      <td>...</td>\n",
              "      <td>...</td>\n",
              "      <td>...</td>\n",
              "    </tr>\n",
              "    <tr>\n",
              "      <th>31160</th>\n",
              "      <td>2012</td>\n",
              "      <td>London</td>\n",
              "      <td>Wrestling</td>\n",
              "      <td>Wrestling Freestyle</td>\n",
              "      <td>JANIKOWSKI, Damian</td>\n",
              "      <td>POL</td>\n",
              "      <td>Men</td>\n",
              "      <td>Wg 84 KG</td>\n",
              "      <td>Bronze</td>\n",
              "    </tr>\n",
              "    <tr>\n",
              "      <th>31161</th>\n",
              "      <td>2012</td>\n",
              "      <td>London</td>\n",
              "      <td>Wrestling</td>\n",
              "      <td>Wrestling Freestyle</td>\n",
              "      <td>REZAEI, Ghasem Gholamreza</td>\n",
              "      <td>IRI</td>\n",
              "      <td>Men</td>\n",
              "      <td>Wg 96 KG</td>\n",
              "      <td>Gold</td>\n",
              "    </tr>\n",
              "    <tr>\n",
              "      <th>31162</th>\n",
              "      <td>2012</td>\n",
              "      <td>London</td>\n",
              "      <td>Wrestling</td>\n",
              "      <td>Wrestling Freestyle</td>\n",
              "      <td>TOTROV, Rustam</td>\n",
              "      <td>RUS</td>\n",
              "      <td>Men</td>\n",
              "      <td>Wg 96 KG</td>\n",
              "      <td>Silver</td>\n",
              "    </tr>\n",
              "    <tr>\n",
              "      <th>31163</th>\n",
              "      <td>2012</td>\n",
              "      <td>London</td>\n",
              "      <td>Wrestling</td>\n",
              "      <td>Wrestling Freestyle</td>\n",
              "      <td>ALEKSANYAN, Artur</td>\n",
              "      <td>ARM</td>\n",
              "      <td>Men</td>\n",
              "      <td>Wg 96 KG</td>\n",
              "      <td>Bronze</td>\n",
              "    </tr>\n",
              "    <tr>\n",
              "      <th>31164</th>\n",
              "      <td>2012</td>\n",
              "      <td>London</td>\n",
              "      <td>Wrestling</td>\n",
              "      <td>Wrestling Freestyle</td>\n",
              "      <td>LIDBERG, Jimmy</td>\n",
              "      <td>SWE</td>\n",
              "      <td>Men</td>\n",
              "      <td>Wg 96 KG</td>\n",
              "      <td>Bronze</td>\n",
              "    </tr>\n",
              "  </tbody>\n",
              "</table>\n",
              "<p>31165 rows × 9 columns</p>\n",
              "</div>"
            ],
            "text/plain": [
              "       Year    City      Sport  ... Gender                       Event   Medal\n",
              "0      1896  Athens   Aquatics  ...    Men              100M Freestyle    Gold\n",
              "1      1896  Athens   Aquatics  ...    Men              100M Freestyle  Silver\n",
              "2      1896  Athens   Aquatics  ...    Men  100M Freestyle For Sailors  Bronze\n",
              "3      1896  Athens   Aquatics  ...    Men  100M Freestyle For Sailors    Gold\n",
              "4      1896  Athens   Aquatics  ...    Men  100M Freestyle For Sailors  Silver\n",
              "...     ...     ...        ...  ...    ...                         ...     ...\n",
              "31160  2012  London  Wrestling  ...    Men                    Wg 84 KG  Bronze\n",
              "31161  2012  London  Wrestling  ...    Men                    Wg 96 KG    Gold\n",
              "31162  2012  London  Wrestling  ...    Men                    Wg 96 KG  Silver\n",
              "31163  2012  London  Wrestling  ...    Men                    Wg 96 KG  Bronze\n",
              "31164  2012  London  Wrestling  ...    Men                    Wg 96 KG  Bronze\n",
              "\n",
              "[31165 rows x 9 columns]"
            ]
          },
          "metadata": {},
          "execution_count": 3
        }
      ]
    },
    {
      "cell_type": "code",
      "metadata": {
        "colab": {
          "base_uri": "https://localhost:8080/"
        },
        "id": "_RLPdZwQPwvv",
        "outputId": "52572c05-3de3-45f5-960b-997688a1c700"
      },
      "source": [
        "df.isnull().sum()\n"
      ],
      "execution_count": 4,
      "outputs": [
        {
          "output_type": "execute_result",
          "data": {
            "text/plain": [
              "Year          0\n",
              "City          0\n",
              "Sport         0\n",
              "Discipline    0\n",
              "Athlete       0\n",
              "Country       4\n",
              "Gender        0\n",
              "Event         0\n",
              "Medal         0\n",
              "dtype: int64"
            ]
          },
          "metadata": {},
          "execution_count": 4
        }
      ]
    },
    {
      "cell_type": "markdown",
      "metadata": {
        "id": "Cah5rHdFHwqe"
      },
      "source": [
        "# **1. In how many cities Summer Olympics is held so far?**"
      ]
    },
    {
      "cell_type": "markdown",
      "metadata": {
        "id": "oMRwHbNaJ_D7"
      },
      "source": [
        "**I. The list of Cities in which Summer Olympics is held**"
      ]
    },
    {
      "cell_type": "code",
      "metadata": {
        "colab": {
          "base_uri": "https://localhost:8080/"
        },
        "id": "NW-mTA8IIBl-",
        "outputId": "317f4945-7f4d-403e-fe17-38a1f7caab56"
      },
      "source": [
        "data = []\n",
        "\n",
        "for city in df['City'].unique():\n",
        "    data.append(city)\n",
        "data\n"
      ],
      "execution_count": 5,
      "outputs": [
        {
          "output_type": "execute_result",
          "data": {
            "text/plain": [
              "['Athens',\n",
              " 'Paris',\n",
              " 'St Louis',\n",
              " 'London',\n",
              " 'Stockholm',\n",
              " 'Antwerp',\n",
              " 'Amsterdam',\n",
              " 'Los Angeles',\n",
              " 'Berlin',\n",
              " 'Helsinki',\n",
              " 'Melbourne / Stockholm',\n",
              " 'Rome',\n",
              " 'Tokyo',\n",
              " 'Mexico',\n",
              " 'Munich',\n",
              " 'Montreal',\n",
              " 'Moscow',\n",
              " 'Seoul',\n",
              " 'Barcelona',\n",
              " 'Atlanta',\n",
              " 'Sydney',\n",
              " 'Beijing']"
            ]
          },
          "metadata": {},
          "execution_count": 5
        }
      ]
    },
    {
      "cell_type": "markdown",
      "metadata": {
        "id": "_vxP3xSEImSd"
      },
      "source": [
        "### **II. NUMBER OF CITIES**"
      ]
    },
    {
      "cell_type": "code",
      "metadata": {
        "colab": {
          "base_uri": "https://localhost:8080/"
        },
        "id": "8mpgNaTWJEbM",
        "outputId": "a8264b59-4c21-46b7-d5e9-af08666515e5"
      },
      "source": [
        "print(\"Number Of Cities in which Summer Olympics is held so far is :\", len(data))"
      ],
      "execution_count": 6,
      "outputs": [
        {
          "output_type": "stream",
          "name": "stdout",
          "text": [
            "Number Of Cities in which Summer Olympics is held so far is : 22\n"
          ]
        }
      ]
    },
    {
      "cell_type": "markdown",
      "metadata": {
        "id": "jgi-VS_OOIZH"
      },
      "source": [
        "# **2. Which sport is having most number of Gold Medals so far? (Top 5)**"
      ]
    },
    {
      "cell_type": "code",
      "metadata": {
        "colab": {
          "base_uri": "https://localhost:8080/"
        },
        "id": "_pT11mZxOk3O",
        "outputId": "051cd460-51e8-4a5d-99fd-c98f56427d78"
      },
      "source": [
        "Most_Gold_Medals=df.Sport[df.Medal=='Gold'].value_counts()\n",
        "Most_Gold_Medals"
      ],
      "execution_count": 7,
      "outputs": [
        {
          "output_type": "execute_result",
          "data": {
            "text/plain": [
              "Aquatics             1421\n",
              "Athletics            1215\n",
              "Rowing                890\n",
              "Gymnastics            820\n",
              "Fencing               552\n",
              "Football              503\n",
              "Hockey                486\n",
              "Sailing               412\n",
              "Wrestling             391\n",
              "Shooting              384\n",
              "Cycling               371\n",
              "Basketball            342\n",
              "Canoe / Kayak         334\n",
              "Volleyball            332\n",
              "Handball              321\n",
              "Equestrian            320\n",
              "Boxing                239\n",
              "Weightlifting         200\n",
              "Archery               126\n",
              "Judo                  123\n",
              "Baseball              111\n",
              "Tennis                 92\n",
              "Rugby                  78\n",
              "Modern Pentathlon      60\n",
              "Softball               60\n",
              "Badminton              46\n",
              "Table Tennis           46\n",
              "Tug of War             36\n",
              "Taekwondo              32\n",
              "Lacrosse               28\n",
              "Canoe                  27\n",
              "Polo                   22\n",
              "Golf                   13\n",
              "Cricket                12\n",
              "Skating                 9\n",
              "Triathlon               8\n",
              "Ice Hockey              8\n",
              "Water Motorsports       5\n",
              "Croquet                 4\n",
              "Rackets                 3\n",
              "Basque Pelota           2\n",
              "Roque                   1\n",
              "Jeu de paume            1\n",
              "Name: Sport, dtype: int64"
            ]
          },
          "metadata": {},
          "execution_count": 7
        }
      ]
    },
    {
      "cell_type": "markdown",
      "metadata": {
        "id": "6CCPRJqxRkQm"
      },
      "source": [
        "## **list of Top 5 Sports Having Most Number of Gold Medals**"
      ]
    },
    {
      "cell_type": "code",
      "metadata": {
        "colab": {
          "base_uri": "https://localhost:8080/"
        },
        "id": "BkGrSGGdRQI-",
        "outputId": "60f581f2-6c27-43b2-d3c5-fa67ab22530f"
      },
      "source": [
        "data=Most_Gold_Medals.head()\n",
        "data"
      ],
      "execution_count": 8,
      "outputs": [
        {
          "output_type": "execute_result",
          "data": {
            "text/plain": [
              "Aquatics      1421\n",
              "Athletics     1215\n",
              "Rowing         890\n",
              "Gymnastics     820\n",
              "Fencing        552\n",
              "Name: Sport, dtype: int64"
            ]
          },
          "metadata": {},
          "execution_count": 8
        }
      ]
    },
    {
      "cell_type": "markdown",
      "metadata": {
        "id": "cwY03M9TbAkX"
      },
      "source": [
        "**Bar Plot**"
      ]
    },
    {
      "cell_type": "code",
      "metadata": {
        "colab": {
          "base_uri": "https://localhost:8080/",
          "height": 385
        },
        "id": "qWhTT3YFbGOT",
        "outputId": "34d9c12f-bf0c-4998-da6f-74b18ebd2c44"
      },
      "source": [
        "data.plot(x='Sport',y='Gold-Medal',kind='bar',figsize=(10,5))"
      ],
      "execution_count": 9,
      "outputs": [
        {
          "output_type": "execute_result",
          "data": {
            "text/plain": [
              "<matplotlib.axes._subplots.AxesSubplot at 0x7fc51b2e6f10>"
            ]
          },
          "metadata": {},
          "execution_count": 9
        },
        {
          "output_type": "display_data",
          "data": {
            "image/png": "[encoded data removed]",
            "text/plain": [
              "<Figure size 720x360 with 1 Axes>"
            ]
          },
          "metadata": {
            "needs_background": "light"
          }
        }
      ]
    },
    {
      "cell_type": "markdown",
      "metadata": {
        "id": "Li3dFjMsepVU"
      },
      "source": [
        "# **3. Which sport is having most number of medals so far? (Top 5)**"
      ]
    },
    {
      "cell_type": "code",
      "metadata": {
        "colab": {
          "base_uri": "https://localhost:8080/"
        },
        "id": "_xrVJmb4eodW",
        "outputId": "94a9f8c4-92b8-4fb9-b293-3b2702b7ade8"
      },
      "source": [
        "most_medals_by_sport=df.groupby('Sport')['Medal'].count().sort_values(ascending=False)\n",
        "most_medals_by_sport"
      ],
      "execution_count": 10,
      "outputs": [
        {
          "output_type": "execute_result",
          "data": {
            "text/plain": [
              "Sport\n",
              "Aquatics             4170\n",
              "Athletics            3638\n",
              "Rowing               2667\n",
              "Gymnastics           2307\n",
              "Fencing              1613\n",
              "Football             1497\n",
              "Hockey               1422\n",
              "Wrestling            1212\n",
              "Shooting             1150\n",
              "Sailing              1109\n",
              "Cycling              1105\n",
              "Basketball           1012\n",
              "Canoe / Kayak        1002\n",
              "Volleyball            994\n",
              "Handball              973\n",
              "Equestrian            939\n",
              "Boxing                894\n",
              "Weightlifting         593\n",
              "Judo                  491\n",
              "Baseball              335\n",
              "Archery               329\n",
              "Tennis                296\n",
              "Rugby                 192\n",
              "Modern Pentathlon     180\n",
              "Softball              180\n",
              "Table Tennis          144\n",
              "Badminton             144\n",
              "Taekwondo             112\n",
              "Tug of War             94\n",
              "Canoe                  81\n",
              "Polo                   66\n",
              "Lacrosse               59\n",
              "Golf                   30\n",
              "Ice Hockey             27\n",
              "Skating                27\n",
              "Triathlon              24\n",
              "Cricket                24\n",
              "Rackets                10\n",
              "Croquet                 8\n",
              "Water Motorsports       5\n",
              "Basque Pelota           4\n",
              "Roque                   3\n",
              "Jeu de paume            3\n",
              "Name: Medal, dtype: int64"
            ]
          },
          "metadata": {},
          "execution_count": 10
        }
      ]
    },
    {
      "cell_type": "markdown",
      "metadata": {
        "id": "QA8TFi7liKN8"
      },
      "source": [
        "**Top 5**"
      ]
    },
    {
      "cell_type": "code",
      "metadata": {
        "colab": {
          "base_uri": "https://localhost:8080/"
        },
        "id": "6sGHJBGth1nC",
        "outputId": "13184bfc-740b-43ce-8ecf-29f5b8aa6885"
      },
      "source": [
        "print('********Top 5 Sports**********')\n",
        "data=most_medals_by_sport.head()\n",
        "data"
      ],
      "execution_count": 11,
      "outputs": [
        {
          "output_type": "stream",
          "name": "stdout",
          "text": [
            "********Top 5 Sports**********\n"
          ]
        },
        {
          "output_type": "execute_result",
          "data": {
            "text/plain": [
              "Sport\n",
              "Aquatics      4170\n",
              "Athletics     3638\n",
              "Rowing        2667\n",
              "Gymnastics    2307\n",
              "Fencing       1613\n",
              "Name: Medal, dtype: int64"
            ]
          },
          "metadata": {},
          "execution_count": 11
        }
      ]
    },
    {
      "cell_type": "code",
      "metadata": {
        "colab": {
          "base_uri": "https://localhost:8080/",
          "height": 399
        },
        "id": "jRvUFN8siius",
        "outputId": "0afe7619-8980-4bb2-f49f-7ed52d4d1a9f"
      },
      "source": [
        "data.plot(x='Sport',y='Medal',kind='bar',figsize=(10,5),color=\"orange\")"
      ],
      "execution_count": 12,
      "outputs": [
        {
          "output_type": "execute_result",
          "data": {
            "text/plain": [
              "<matplotlib.axes._subplots.AxesSubplot at 0x7fc51b24bb50>"
            ]
          },
          "metadata": {},
          "execution_count": 12
        },
        {
          "output_type": "display_data",
          "data": {
            "image/png": "[encoded data removed]",
            "text/plain": [
              "<Figure size 720x360 with 1 Axes>"
            ]
          },
          "metadata": {
            "needs_background": "light"
          }
        }
      ]
    },
    {
      "cell_type": "markdown",
      "metadata": {
        "id": "l65TA7Q6jJQh"
      },
      "source": [
        "# **4. Which player has won most number of medals? (Top 5)¶**"
      ]
    },
    {
      "cell_type": "code",
      "metadata": {
        "colab": {
          "base_uri": "https://localhost:8080/"
        },
        "id": "TM8_D1DSjcee",
        "outputId": "bc6d3946-cdef-4bac-e815-0b894a0338a2"
      },
      "source": [
        "most_medals_by_athlete=df.groupby('Athlete')['Medal'].count().sort_values(ascending=False).head()\n",
        "most_medals_by_athlete"
      ],
      "execution_count": 13,
      "outputs": [
        {
          "output_type": "execute_result",
          "data": {
            "text/plain": [
              "Athlete\n",
              "PHELPS, Michael         22\n",
              "LATYNINA, Larisa        18\n",
              "ANDRIANOV, Nikolay      15\n",
              "MANGIAROTTI, Edoardo    13\n",
              "SHAKHLIN, Boris         13\n",
              "Name: Medal, dtype: int64"
            ]
          },
          "metadata": {},
          "execution_count": 13
        }
      ]
    },
    {
      "cell_type": "code",
      "metadata": {
        "colab": {
          "base_uri": "https://localhost:8080/",
          "height": 458
        },
        "id": "nJFwAOhykOPu",
        "outputId": "675f52c6-ab00-4cf2-d550-b1d0ff27cf5c"
      },
      "source": [
        "data=most_medals_by_athlete.plot(x='Athlete',y='Medals',kind='bar',figsize=(10,5),color=\"yellow\")\n",
        "data"
      ],
      "execution_count": 14,
      "outputs": [
        {
          "output_type": "execute_result",
          "data": {
            "text/plain": [
              "<matplotlib.axes._subplots.AxesSubplot at 0x7fc51ad14d50>"
            ]
          },
          "metadata": {},
          "execution_count": 14
        },
        {
          "output_type": "display_data",
          "data": {
            "image/png": "[encoded data removed]",
            "text/plain": [
              "<Figure size 720x360 with 1 Axes>"
            ]
          },
          "metadata": {
            "needs_background": "light"
          }
        }
      ]
    },
    {
      "cell_type": "markdown",
      "metadata": {
        "id": "wC-y-F5ty21N"
      },
      "source": [
        "# **5. Which player has won most number of Gold Medals? (Top 5)**"
      ]
    },
    {
      "cell_type": "code",
      "metadata": {
        "colab": {
          "base_uri": "https://localhost:8080/"
        },
        "id": "F_Z23EnYzOGL",
        "outputId": "ce1aaaf3-14a3-4ca2-ffdf-78c999cbfb56"
      },
      "source": [
        "Player_most_gold=df.Athlete[df.Medal == \"Gold\"].value_counts()\n",
        "Player_most_gold"
      ],
      "execution_count": 15,
      "outputs": [
        {
          "output_type": "execute_result",
          "data": {
            "text/plain": [
              "PHELPS, Michael             18\n",
              "SPITZ, Mark                  9\n",
              "LEWIS, Carl                  9\n",
              "NURMI, Paavo                 9\n",
              "LATYNINA, Larisa             9\n",
              "                            ..\n",
              "PARTRIDGE, Kathleen Anne     1\n",
              "GRAEF, Jedward Richard       1\n",
              "YAMADA, Eri                  1\n",
              "DÃRNER, Hans-JÃ¼rgen        1\n",
              "PHELPS, Mason Elliot         1\n",
              "Name: Athlete, Length: 8287, dtype: int64"
            ]
          },
          "metadata": {},
          "execution_count": 15
        }
      ]
    },
    {
      "cell_type": "code",
      "metadata": {
        "colab": {
          "base_uri": "https://localhost:8080/"
        },
        "id": "BGjIvz8xPTM4",
        "outputId": "17dff04d-1867-4367-8a83-5b013f4c7139"
      },
      "source": [
        "data1=Player_most_gold.head()\n",
        "data1\n"
      ],
      "execution_count": 16,
      "outputs": [
        {
          "output_type": "execute_result",
          "data": {
            "text/plain": [
              "PHELPS, Michael     18\n",
              "SPITZ, Mark          9\n",
              "LEWIS, Carl          9\n",
              "NURMI, Paavo         9\n",
              "LATYNINA, Larisa     9\n",
              "Name: Athlete, dtype: int64"
            ]
          },
          "metadata": {},
          "execution_count": 16
        }
      ]
    },
    {
      "cell_type": "code",
      "metadata": {
        "colab": {
          "base_uri": "https://localhost:8080/",
          "height": 412
        },
        "id": "YyjMArwcPYRp",
        "outputId": "eafcd286-a716-4c18-c567-17792809689b"
      },
      "source": [
        "data1.plot(x=\"Player\",y=\"Medal\",kind=\"bar\",color=\"blue\",figsize=(10,5))\n"
      ],
      "execution_count": 17,
      "outputs": [
        {
          "output_type": "execute_result",
          "data": {
            "text/plain": [
              "<matplotlib.axes._subplots.AxesSubplot at 0x7fc51ac94090>"
            ]
          },
          "metadata": {},
          "execution_count": 17
        },
        {
          "output_type": "display_data",
          "data": {
            "image/png": "[encoded data removed]",
            "text/plain": [
              "<Figure size 720x360 with 1 Axes>"
            ]
          },
          "metadata": {
            "needs_background": "light"
          }
        }
      ]
    },
    {
      "cell_type": "markdown",
      "metadata": {
        "id": "64rgcgzj0CDc"
      },
      "source": [
        "# **6. In which year India won first Gold Medal in Summer Olympics?**"
      ]
    },
    {
      "cell_type": "code",
      "metadata": {
        "id": "hCfjHqOfAp7K"
      },
      "source": [
        "df_gold=df[df['Medal']=='Gold']\n",
        "\n"
      ],
      "execution_count": 18,
      "outputs": []
    },
    {
      "cell_type": "code",
      "metadata": {
        "id": "2T1152PbAtaS"
      },
      "source": [
        "year_asc=df_gold.sort_values(['Year'],ascending=True)\n"
      ],
      "execution_count": 19,
      "outputs": []
    },
    {
      "cell_type": "code",
      "metadata": {
        "id": "ZhzpNkcCAyHG"
      },
      "source": [
        "india_first_gold=year_asc[year_asc['Country']=='IND'].iloc[0]\n"
      ],
      "execution_count": 20,
      "outputs": []
    },
    {
      "cell_type": "code",
      "metadata": {
        "colab": {
          "base_uri": "https://localhost:8080/"
        },
        "id": "A0qNpw-4A3d-",
        "outputId": "b7c49373-7ea6-40d7-ff42-53135364d0fb"
      },
      "source": [
        "print(\"The year India won its first Gold Medal in Summer Olympics is \",india_first_gold['Year'])\n"
      ],
      "execution_count": 21,
      "outputs": [
        {
          "output_type": "stream",
          "name": "stdout",
          "text": [
            "The year India won its first Gold Medal in Summer Olympics is  1928\n"
          ]
        }
      ]
    },
    {
      "cell_type": "markdown",
      "metadata": {
        "id": "Cl1a_cPlOABr"
      },
      "source": [
        "# **7. Which event is most popular in terms on number of players? (Top 5)¶**"
      ]
    },
    {
      "cell_type": "code",
      "metadata": {
        "id": "fz68dkEkOHC8"
      },
      "source": [
        "most_popular_events=df[(df.Event != 0) & (df.Athlete != 0 )][['Event','Athlete']]\n",
        "most_popular_events=most_popular_events.groupby('Event').count().reset_index()\n"
      ],
      "execution_count": 22,
      "outputs": []
    },
    {
      "cell_type": "code",
      "metadata": {
        "colab": {
          "base_uri": "https://localhost:8080/",
          "height": 203
        },
        "id": "dS73Cg1POLhI",
        "outputId": "67dd4125-3d05-4a47-c13e-c32ce874d7c5"
      },
      "source": [
        "most_popular_events=most_popular_events.sort_values(by='Athlete',ascending=False).head()\n",
        "most_popular_events"
      ],
      "execution_count": 23,
      "outputs": [
        {
          "output_type": "execute_result",
          "data": {
            "text/html": [
              "<div>\n",
              "<style scoped>\n",
              "    .dataframe tbody tr th:only-of-type {\n",
              "        vertical-align: middle;\n",
              "    }\n",
              "\n",
              "    .dataframe tbody tr th {\n",
              "        vertical-align: top;\n",
              "    }\n",
              "\n",
              "    .dataframe thead th {\n",
              "        text-align: right;\n",
              "    }\n",
              "</style>\n",
              "<table border=\"1\" class=\"dataframe\">\n",
              "  <thead>\n",
              "    <tr style=\"text-align: right;\">\n",
              "      <th></th>\n",
              "      <th>Event</th>\n",
              "      <th>Athlete</th>\n",
              "    </tr>\n",
              "  </thead>\n",
              "  <tbody>\n",
              "    <tr>\n",
              "      <th>477</th>\n",
              "      <td>Football</td>\n",
              "      <td>1497</td>\n",
              "    </tr>\n",
              "    <tr>\n",
              "      <th>489</th>\n",
              "      <td>Hockey</td>\n",
              "      <td>1422</td>\n",
              "    </tr>\n",
              "    <tr>\n",
              "      <th>614</th>\n",
              "      <td>Team Competition</td>\n",
              "      <td>1147</td>\n",
              "    </tr>\n",
              "    <tr>\n",
              "      <th>403</th>\n",
              "      <td>Basketball</td>\n",
              "      <td>1012</td>\n",
              "    </tr>\n",
              "    <tr>\n",
              "      <th>483</th>\n",
              "      <td>Handball</td>\n",
              "      <td>973</td>\n",
              "    </tr>\n",
              "  </tbody>\n",
              "</table>\n",
              "</div>"
            ],
            "text/plain": [
              "                Event  Athlete\n",
              "477          Football     1497\n",
              "489            Hockey     1422\n",
              "614  Team Competition     1147\n",
              "403        Basketball     1012\n",
              "483          Handball      973"
            ]
          },
          "metadata": {},
          "execution_count": 23
        }
      ]
    },
    {
      "cell_type": "code",
      "metadata": {
        "colab": {
          "base_uri": "https://localhost:8080/",
          "height": 431
        },
        "id": "PeRbyoEWyucz",
        "outputId": "99827641-87f8-4b9c-be56-201841d0ea25"
      },
      "source": [
        "most_popular_events.plot(x='Event',y='Athlete',kind='bar',color=\"maroon\",figsize=(10,5))\n"
      ],
      "execution_count": 24,
      "outputs": [
        {
          "output_type": "execute_result",
          "data": {
            "text/plain": [
              "<matplotlib.axes._subplots.AxesSubplot at 0x7fc51ac81950>"
            ]
          },
          "metadata": {},
          "execution_count": 24
        },
        {
          "output_type": "display_data",
          "data": {
            "image/png": "[encoded data removed]",
            "text/plain": [
              "<Figure size 720x360 with 1 Axes>"
            ]
          },
          "metadata": {
            "needs_background": "light"
          }
        }
      ]
    },
    {
      "cell_type": "markdown",
      "metadata": {
        "id": "Q146ETTeOa1k"
      },
      "source": [
        "# **8. Which sport is having most female Gold Medalists? (Top 5)¶**"
      ]
    },
    {
      "cell_type": "code",
      "metadata": {
        "id": "LjqIFQ15OaaQ"
      },
      "source": [
        "Player_gold_female=df_gold[df_gold['Gender']=='Women']\n"
      ],
      "execution_count": 25,
      "outputs": []
    },
    {
      "cell_type": "code",
      "metadata": {
        "colab": {
          "base_uri": "https://localhost:8080/",
          "height": 417
        },
        "id": "xk9NL3BwOn2Z",
        "outputId": "30b9c68a-c6d7-4991-d43e-7213758abc17"
      },
      "source": [
        "Player_gold_female\n"
      ],
      "execution_count": 26,
      "outputs": [
        {
          "output_type": "execute_result",
          "data": {
            "text/html": [
              "<div>\n",
              "<style scoped>\n",
              "    .dataframe tbody tr th:only-of-type {\n",
              "        vertical-align: middle;\n",
              "    }\n",
              "\n",
              "    .dataframe tbody tr th {\n",
              "        vertical-align: top;\n",
              "    }\n",
              "\n",
              "    .dataframe thead th {\n",
              "        text-align: right;\n",
              "    }\n",
              "</style>\n",
              "<table border=\"1\" class=\"dataframe\">\n",
              "  <thead>\n",
              "    <tr style=\"text-align: right;\">\n",
              "      <th></th>\n",
              "      <th>Year</th>\n",
              "      <th>City</th>\n",
              "      <th>Sport</th>\n",
              "      <th>Discipline</th>\n",
              "      <th>Athlete</th>\n",
              "      <th>Country</th>\n",
              "      <th>Gender</th>\n",
              "      <th>Event</th>\n",
              "      <th>Medal</th>\n",
              "    </tr>\n",
              "  </thead>\n",
              "  <tbody>\n",
              "    <tr>\n",
              "      <th>417</th>\n",
              "      <td>1900</td>\n",
              "      <td>Paris</td>\n",
              "      <td>Golf</td>\n",
              "      <td>Golf</td>\n",
              "      <td>ABBOTT, Margaret Ives</td>\n",
              "      <td>USA</td>\n",
              "      <td>Women</td>\n",
              "      <td>Individual</td>\n",
              "      <td>Gold</td>\n",
              "    </tr>\n",
              "    <tr>\n",
              "      <th>641</th>\n",
              "      <td>1900</td>\n",
              "      <td>Paris</td>\n",
              "      <td>Tennis</td>\n",
              "      <td>Tennis</td>\n",
              "      <td>COOPER, Charlotte</td>\n",
              "      <td>GBR</td>\n",
              "      <td>Women</td>\n",
              "      <td>Mixed Doubles</td>\n",
              "      <td>Gold</td>\n",
              "    </tr>\n",
              "    <tr>\n",
              "      <th>649</th>\n",
              "      <td>1900</td>\n",
              "      <td>Paris</td>\n",
              "      <td>Tennis</td>\n",
              "      <td>Tennis</td>\n",
              "      <td>COOPER, Charlotte</td>\n",
              "      <td>GBR</td>\n",
              "      <td>Women</td>\n",
              "      <td>Singles</td>\n",
              "      <td>Gold</td>\n",
              "    </tr>\n",
              "    <tr>\n",
              "      <th>710</th>\n",
              "      <td>1904</td>\n",
              "      <td>St Louis</td>\n",
              "      <td>Archery</td>\n",
              "      <td>Archery</td>\n",
              "      <td>HOWELL, Matilda Scott</td>\n",
              "      <td>USA</td>\n",
              "      <td>Women</td>\n",
              "      <td>Double Columbia Round (50Y - 40Y - 30Y)</td>\n",
              "      <td>Gold</td>\n",
              "    </tr>\n",
              "    <tr>\n",
              "      <th>713</th>\n",
              "      <td>1904</td>\n",
              "      <td>St Louis</td>\n",
              "      <td>Archery</td>\n",
              "      <td>Archery</td>\n",
              "      <td>HOWELL, Matilda Scott</td>\n",
              "      <td>USA</td>\n",
              "      <td>Women</td>\n",
              "      <td>Double National Round (60Y - 50Y)</td>\n",
              "      <td>Gold</td>\n",
              "    </tr>\n",
              "    <tr>\n",
              "      <th>...</th>\n",
              "      <td>...</td>\n",
              "      <td>...</td>\n",
              "      <td>...</td>\n",
              "      <td>...</td>\n",
              "      <td>...</td>\n",
              "      <td>...</td>\n",
              "      <td>...</td>\n",
              "      <td>...</td>\n",
              "      <td>...</td>\n",
              "    </tr>\n",
              "    <tr>\n",
              "      <th>31081</th>\n",
              "      <td>2012</td>\n",
              "      <td>London</td>\n",
              "      <td>Weightlifting</td>\n",
              "      <td>Weightlifting</td>\n",
              "      <td>VALENTIN PEREZ, Lidia</td>\n",
              "      <td>ESP</td>\n",
              "      <td>Women</td>\n",
              "      <td>75KG</td>\n",
              "      <td>Gold</td>\n",
              "    </tr>\n",
              "    <tr>\n",
              "      <th>31097</th>\n",
              "      <td>2012</td>\n",
              "      <td>London</td>\n",
              "      <td>Wrestling</td>\n",
              "      <td>Wrestling Freestyle</td>\n",
              "      <td>OBARA, Hitomi</td>\n",
              "      <td>JPN</td>\n",
              "      <td>Women</td>\n",
              "      <td>Wf 48 KG</td>\n",
              "      <td>Gold</td>\n",
              "    </tr>\n",
              "    <tr>\n",
              "      <th>31105</th>\n",
              "      <td>2012</td>\n",
              "      <td>London</td>\n",
              "      <td>Wrestling</td>\n",
              "      <td>Wrestling Freestyle</td>\n",
              "      <td>YOSHIDA, Saori</td>\n",
              "      <td>JPN</td>\n",
              "      <td>Women</td>\n",
              "      <td>Wf 55 KG</td>\n",
              "      <td>Gold</td>\n",
              "    </tr>\n",
              "    <tr>\n",
              "      <th>31113</th>\n",
              "      <td>2012</td>\n",
              "      <td>London</td>\n",
              "      <td>Wrestling</td>\n",
              "      <td>Wrestling Freestyle</td>\n",
              "      <td>ICHO, Kaori</td>\n",
              "      <td>JPN</td>\n",
              "      <td>Women</td>\n",
              "      <td>Wf 63 KG</td>\n",
              "      <td>Gold</td>\n",
              "    </tr>\n",
              "    <tr>\n",
              "      <th>31121</th>\n",
              "      <td>2012</td>\n",
              "      <td>London</td>\n",
              "      <td>Wrestling</td>\n",
              "      <td>Wrestling Freestyle</td>\n",
              "      <td>VOROBIEVA, Natalia</td>\n",
              "      <td>RUS</td>\n",
              "      <td>Women</td>\n",
              "      <td>Wf 72 KG</td>\n",
              "      <td>Gold</td>\n",
              "    </tr>\n",
              "  </tbody>\n",
              "</table>\n",
              "<p>2788 rows × 9 columns</p>\n",
              "</div>"
            ],
            "text/plain": [
              "       Year      City  ...                                    Event Medal\n",
              "417    1900     Paris  ...                               Individual  Gold\n",
              "641    1900     Paris  ...                            Mixed Doubles  Gold\n",
              "649    1900     Paris  ...                                  Singles  Gold\n",
              "710    1904  St Louis  ...  Double Columbia Round (50Y - 40Y - 30Y)  Gold\n",
              "713    1904  St Louis  ...        Double National Round (60Y - 50Y)  Gold\n",
              "...     ...       ...  ...                                      ...   ...\n",
              "31081  2012    London  ...                                     75KG  Gold\n",
              "31097  2012    London  ...                                 Wf 48 KG  Gold\n",
              "31105  2012    London  ...                                 Wf 55 KG  Gold\n",
              "31113  2012    London  ...                                 Wf 63 KG  Gold\n",
              "31121  2012    London  ...                                 Wf 72 KG  Gold\n",
              "\n",
              "[2788 rows x 9 columns]"
            ]
          },
          "metadata": {},
          "execution_count": 26
        }
      ]
    },
    {
      "cell_type": "code",
      "metadata": {
        "colab": {
          "base_uri": "https://localhost:8080/"
        },
        "id": "jVQN6oYeOoQN",
        "outputId": "79b7cc6b-d8be-400a-a019-cf493fee526d"
      },
      "source": [
        "data2=Player_gold_female.groupby(\"Sport\").count()[\"Gender\"].sort_values(ascending = False).head()\n",
        "data2"
      ],
      "execution_count": 28,
      "outputs": [
        {
          "output_type": "execute_result",
          "data": {
            "text/plain": [
              "Sport\n",
              "Aquatics      589\n",
              "Athletics     389\n",
              "Gymnastics    268\n",
              "Rowing        217\n",
              "Volleyball    166\n",
              "Name: Gender, dtype: int64"
            ]
          },
          "metadata": {},
          "execution_count": 28
        }
      ]
    },
    {
      "cell_type": "code",
      "metadata": {
        "colab": {
          "base_uri": "https://localhost:8080/",
          "height": 399
        },
        "id": "QcT6y8_MHCsd",
        "outputId": "853f76da-4e0e-4058-de8d-a7d36ef703ac"
      },
      "source": [
        "data2.plot.bar(x=\"Athlete\",y=\"Medal\",color=\"green\",figsize=(10,5))\n"
      ],
      "execution_count": 29,
      "outputs": [
        {
          "output_type": "execute_result",
          "data": {
            "text/plain": [
              "<matplotlib.axes._subplots.AxesSubplot at 0x7fc51aafd310>"
            ]
          },
          "metadata": {},
          "execution_count": 29
        },
        {
          "output_type": "display_data",
          "data": {
            "image/png": "[encoded data removed]",
            "text/plain": [
              "<Figure size 720x360 with 1 Axes>"
            ]
          },
          "metadata": {
            "needs_background": "light"
          }
        }
      ]
    }
  ]
}